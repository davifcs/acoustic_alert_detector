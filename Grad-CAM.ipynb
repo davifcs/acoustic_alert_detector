{
 "cells": [
  {
   "cell_type": "code",
   "execution_count": 2,
   "id": "c052cc43",
   "metadata": {},
   "outputs": [
    {
     "name": "stderr",
     "output_type": "stream",
     "text": [
      "C:\\Users\\davis\\anaconda3\\envs\\venv-aad\\lib\\site-packages\\tqdm\\auto.py:22: TqdmWarning: IProgress not found. Please update jupyter and ipywidgets. See https://ipywidgets.readthedocs.io/en/stable/user_install.html\n",
      "  from .autonotebook import tqdm as notebook_tqdm\n"
     ]
    }
   ],
   "source": [
    "import cv2\n",
    "import numpy as np\n",
    "import torch\n",
    "import torchaudio\n",
    "from torch import nn\n",
    "from torch.utils.data import DataLoader\n",
    "import matplotlib.pyplot as plt\n",
    "\n",
    "\n",
    "from utils.dataset import ESC50Dataset\n",
    "from models.convolutional import CNN2D, CNN1D"
   ]
  },
  {
   "cell_type": "code",
   "execution_count": 3,
   "id": "12ac400d",
   "metadata": {},
   "outputs": [
    {
     "data": {
      "text/plain": [
       "CNN2D(\n",
       "  (conv): Sequential(\n",
       "    (0): Conv2d(1, 16, kernel_size=(3, 3), stride=(1, 1))\n",
       "    (1): ReLU()\n",
       "    (2): Conv2d(16, 16, kernel_size=(3, 3), stride=(1, 1))\n",
       "    (3): ReLU()\n",
       "    (4): Conv2d(16, 32, kernel_size=(3, 3), stride=(1, 1))\n",
       "    (5): ReLU()\n",
       "    (6): Conv2d(32, 32, kernel_size=(3, 3), stride=(1, 1))\n",
       "    (7): ReLU()\n",
       "    (8): MaxPool2d(kernel_size=2, stride=2, padding=0, dilation=1, ceil_mode=False)\n",
       "    (9): Conv2d(32, 64, kernel_size=(3, 3), stride=(1, 1))\n",
       "    (10): ReLU()\n",
       "    (11): Conv2d(64, 64, kernel_size=(3, 3), stride=(1, 1))\n",
       "    (12): ReLU()\n",
       "    (13): MaxPool2d(kernel_size=2, stride=2, padding=0, dilation=1, ceil_mode=False)\n",
       "    (14): Dropout(p=0.2, inplace=False)\n",
       "    (15): Conv2d(64, 2, kernel_size=(1, 1), stride=(1, 1))\n",
       "    (16): AvgPool2d(kernel_size=(2, 1), stride=(2, 1), padding=0)\n",
       "  )\n",
       "  (linear): Sequential(\n",
       "    (0): Flatten(start_dim=1, end_dim=-1)\n",
       "    (1): Linear(in_features=4, out_features=1, bias=True)\n",
       "  )\n",
       ")"
      ]
     },
     "execution_count": 3,
     "metadata": {},
     "output_type": "execute_result"
    }
   ],
   "source": [
    "CNN2D.load_from_checkpoint(\"./runs/epoch=88-val_avg_loss=0.00-val_avg_f1=1.00.ckpt\")"
   ]
  },
  {
   "cell_type": "code",
   "execution_count": 4,
   "id": "90d97308",
   "metadata": {},
   "outputs": [],
   "source": [
    "transforms = [torchaudio.transforms.MelSpectrogram(sample_rate=14700,\n",
    "                                                  f_min=0,\n",
    "                                                  n_fft=1024,\n",
    "                                                  win_length=1024,\n",
    "                                                  hop_length=512,\n",
    "                                                  center=False,\n",
    "                                                  normalized=False,\n",
    "                                                  mel_scale=\"slaney\",\n",
    "                                                  n_mels=30,\n",
    "                                                  power=2),\n",
    "              torchaudio.transforms.AmplitudeToDB(top_db=80.0)]\n",
    "\n",
    "dataset = ESC50Dataset(\"./data/ESC-50-master/meta/esc50_pos.csv\", \"./data/ESC-50-master/audio/\", [1,2,3,4,5], \n",
    "                            transforms, 14700, 1, \"convolutional\", patch_size=4, device=\"cpu\")\n",
    "dataloader = DataLoader(dataset=dataset, batch_size=1, drop_last=True, num_workers=0)"
   ]
  },
  {
   "cell_type": "code",
   "execution_count": 5,
   "id": "4df60062",
   "metadata": {},
   "outputs": [],
   "source": [
    "class CNN2D_CAM(CNN2D):\n",
    "    def __init__(self, learning_rate=1e-3, weight_decay=5e-4):\n",
    "        super().__init__(learning_rate, weight_decay)\n",
    "        \n",
    "        self.cnn2d = CNN2D.load_from_checkpoint(\"./runs/epoch=88-val_avg_loss=0.00-val_avg_f1=1.00.ckpt\")\n",
    "        \n",
    "        # disect the network to access its last convolutional layer\n",
    "        self.features_conv = self.cnn2d.conv[:13]\n",
    "        \n",
    "        # get the max pool of the features stem\n",
    "        self.avg = nn.Sequential(nn.MaxPool2d(kernel_size=2, stride=2, padding=0, dilation=1, ceil_mode=False),\n",
    "                                       nn.Dropout(p=0.2, inplace=False),\n",
    "                                       nn.Conv2d(64, 2, kernel_size=(1, 1), stride=(1, 1)),\n",
    "                                       nn.AvgPool2d(kernel_size=(2, 1), stride=(2, 1), padding=0))\n",
    "        \n",
    "        self.classifier = self.linear\n",
    "        \n",
    "        # placeholder for the gradients\n",
    "        self.gradients = None\n",
    "    \n",
    "    # hook for the gradients of the activations\n",
    "    def activations_hook(self, grad):\n",
    "        self.gradients = grad\n",
    "        \n",
    "    def forward(self, x):\n",
    "        x = self.features_conv(x)\n",
    "        \n",
    "        # register the hook\n",
    "        h = x.register_hook(self.activations_hook)\n",
    "        \n",
    "        # apply the remaining pooling\n",
    "        x = self.avg(x)\n",
    "        x = self.classifier(x)\n",
    "        return x\n",
    "    \n",
    "    # method for the gradient extraction\n",
    "    def get_activations_gradient(self):\n",
    "        return self.gradients\n",
    "    \n",
    "    # method for the activation exctraction\n",
    "    def get_activations(self, x):\n",
    "        return self.features_conv(x)\n"
   ]
  },
  {
   "cell_type": "code",
   "execution_count": 365,
   "id": "d0f06e76",
   "metadata": {},
   "outputs": [
    {
     "data": {
      "text/plain": [
       "<matplotlib.image.AxesImage at 0x27738b49850>"
      ]
     },
     "execution_count": 365,
     "metadata": {},
     "output_type": "execute_result"
    },
    {
     "data": {
      "image/png": "[encoded data removed]",
      "text/plain": [
       "<Figure size 432x288 with 1 Axes>"
      ]
     },
     "metadata": {
      "needs_background": "light"
     },
     "output_type": "display_data"
    }
   ],
   "source": [
    "cnn2d = CNN2D_CAM()\n",
    "\n",
    "cnn2d.eval()\n",
    "\n",
    "# get the image from the dataloader\n",
    "spectrogram, label = next(iter(dataloader))\n",
    "\n",
    "# get the most likely prediction of the model\n",
    "pred = cnn2d(spectrogram)\n",
    "\n",
    "# get the gradient of the output with respect to the parameters of the model\n",
    "pred.backward()\n",
    "\n",
    "# pull the gradients out of the model\n",
    "gradients = cnn2d.get_activations_gradient()\n",
    "\n",
    "# pool the gradients across the channels\n",
    "pooled_gradients = torch.mean(gradients, dim=[0, 2, 3])\n",
    "\n",
    "# get the activations of the last convolutional layer\n",
    "activations = cnn2d.get_activations(spectrogram).detach()\n",
    "\n",
    "# weight the channels by corresponding gradients\n",
    "for i in range(64):\n",
    "    activations[:, i, :, :] *= pooled_gradients[i]\n",
    "    \n",
    "# average the channels of the activations\n",
    "heatmap = torch.mean(activations, dim=1).squeeze()\n",
    "\n",
    "# relu on top of the heatmap\n",
    "# expression (2) in https://arxiv.org/pdf/1610.02391.pdf\n",
    "heatmap = np.maximum(heatmap, 0)\n",
    "\n",
    "# normalize the heatmap\n",
    "heatmap /= torch.max(heatmap)\n",
    "\n",
    "spectrogram = spectrogram.numpy()\n",
    "heatmap = heatmap.numpy()\n",
    "\n",
    "\n",
    "plt.imshow(heatmap)"
   ]
  },
  {
   "cell_type": "code",
   "execution_count": 366,
   "id": "6f43cc32",
   "metadata": {
    "scrolled": true
   },
   "outputs": [
    {
     "name": "stdout",
     "output_type": "stream",
     "text": [
      "Predicted False\n",
      "Label True\n"
     ]
    }
   ],
   "source": [
    "print(f\"Predicted {torch.sigmoid(pred).item()>0.5}\\nLabel {label.item()==1}\")"
   ]
  },
  {
   "cell_type": "code",
   "execution_count": 367,
   "id": "e918c370",
   "metadata": {},
   "outputs": [
    {
     "data": {
      "text/plain": [
       "[Text(0.5, 0, 'Time [ms]')]"
      ]
     },
     "execution_count": 367,
     "metadata": {},
     "output_type": "execute_result"
    },
    {
     "data": {
      "image/png": "[encoded data removed]",
      "text/plain": [
       "<Figure size 1440x720 with 3 Axes>"
      ]
     },
     "metadata": {
      "needs_background": "light"
     },
     "output_type": "display_data"
    }
   ],
   "source": [
    "spectrogram_ = np.expand_dims(spectrogram[0,0,:,:], 2)\n",
    "\n",
    "norm_spectrogram = (spectrogram_ - np.min(spectrogram_)) / (np.max(spectrogram_)  - np.min(spectrogram_))\n",
    "heatmap_scaled = cv2.resize(heatmap, (norm_spectrogram.shape[1], norm_spectrogram.shape[0]))\n",
    "\n",
    "heatmap_colored = cv2.applyColorMap(np.uint8(255 * heatmap_scaled), cv2.COLORMAP_JET)\n",
    "superimposed_spectrogram = (1 - np.float32(heatmap_colored/255))  * 0.25 + norm_spectrogram * 0.65\n",
    "\n",
    "heatmap_filtered = heatmap_scaled >= 0.4\n",
    "masked_spectrogram = np.expand_dims(heatmap_filtered, axis=2) * norm_spectrogram\n",
    "\n",
    "fig, (ax1, ax2, ax3) = plt.subplots(1, 3, figsize=(20, 10), sharey=True)\n",
    "ax1.imshow(norm_spectrogram, origin='lower', extent = [0 , 1000, 0, 7.35], aspect='auto')\n",
    "ax1.set(xlabel='Time [ms]', ylabel='Frequency [kHz]')\n",
    "ax2.imshow(superimposed_spectrogram, vmin=0, vmax=1, cmap='hot', origin='lower', extent = [0 , 1000, 0, 7.35], aspect='auto')\n",
    "ax2.set(xlabel='Time [ms]')\n",
    "ax3.imshow(masked_spectrogram, vmin=0, vmax=1, origin='lower', extent = [0 , 1000, 0, 7.35], aspect='auto')\n",
    "ax3.set(xlabel='Time [ms]')\n"
   ]
  }
 ],
 "metadata": {
  "kernelspec": {
   "display_name": "Python 3 (ipykernel)",
   "language": "python",
   "name": "python3"
  },
  "language_info": {
   "codemirror_mode": {
    "name": "ipython",
    "version": 3
   },
   "file_extension": ".py",
   "mimetype": "text/x-python",
   "name": "python",
   "nbconvert_exporter": "python",
   "pygments_lexer": "ipython3",
   "version": "3.8.12"
  }
 },
 "nbformat": 4,
 "nbformat_minor": 5
}
